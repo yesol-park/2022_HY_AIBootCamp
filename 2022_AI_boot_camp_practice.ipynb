{
  "nbformat": 4,
  "nbformat_minor": 0,
  "metadata": {
    "colab": {
      "name": "2022_AI_boot_camp_practice.ipynb",
      "provenance": [],
      "collapsed_sections": [],
      "include_colab_link": true
    },
    "kernelspec": {
      "name": "python3",
      "display_name": "Python 3"
    },
    "language_info": {
      "name": "python"
    },
    "accelerator": "GPU",
    "gpuClass": "standard"
  },
  "cells": [
    {
      "cell_type": "markdown",
      "metadata": {
        "id": "view-in-github",
        "colab_type": "text"
      },
      "source": [
        "<a href=\"https://colab.research.google.com/github/yesol-park/2022_HY_AIBootCamp/blob/main/2022_AI_boot_camp_practice.ipynb\" target=\"_parent\"><img src=\"https://colab.research.google.com/assets/colab-badge.svg\" alt=\"Open In Colab\"/></a>"
      ]
    },
    {
      "cell_type": "code",
      "execution_count": null,
      "metadata": {
        "id": "caXWylPTRbcE"
      },
      "outputs": [],
      "source": [
        "# Environment\n",
        "!pip install torch torchvision torchaudio --extra-index-url https://download.pytorch.org/whl/cu113\n",
        "!pip install torch-scatter torch-sparse torch-cluster torch-spline-conv torch-geometric -f https://data.pyg.org/whl/torch-1.12.0+cu113.html\n",
        "!pip install pytorch-lightning"
      ]
    },
    {
      "cell_type": "code",
      "source": [
        "# Dataset\n",
        "from torch_geometric.datasets import TUDataset\n",
        "\n",
        "training_dataset = TUDataset('./dataset', 'Tox21_AhR_training')\n",
        "validation_dataset = TUDataset('./dataset', 'Tox21_AhR_testing')\n",
        "test_dataset = TUDataset('./dataset', 'Tox21_AhR_evaluation')\n",
        "\n",
        "print(training_dataset)\n",
        "print(validation_dataset)\n",
        "print(test_dataset)\n",
        "\n",
        "print(training_dataset[0])\n",
        "print(validation_dataset[0])\n",
        "print(test_dataset[0])"
      ],
      "metadata": {
        "id": "oa2LJx93ogPr"
      },
      "execution_count": null,
      "outputs": []
    },
    {
      "cell_type": "code",
      "source": [
        "# Pytorch-lightning datamodule\n",
        "from torch.utils.data import DataLoader\n",
        "from pytorch_lightning import LightningDataModule\n",
        "from torch_geometric.data import Data, Batch\n",
        "from torch.nn.functional import pad\n",
        "\n",
        "class CustomData(LightningDataModule):\n",
        "  def __init__(self, training_set, validation_set, test_set, batch_size=128, num_workers=1):\n",
        "    super().__init__()\n",
        "    self.training_set = training_set\n",
        "    self.validation_set = validation_set\n",
        "    self.test_set = test_set\n",
        "    self.batch_size = batch_size\n",
        "    self.num_workers = num_workers\n",
        "  \n",
        "  def collate_function(self, batch):\n",
        "    return Batch.from_data_list([Data(edge_index=data.edge_index, \n",
        "                                      x=pad(data.x, (0,3), 'constant', 0.)[:,:53], \n",
        "                                      edge_attr=data.edge_attr, \n",
        "                                      y=data.y.unsqueeze(0).float()) for data in batch])\n",
        "  \n",
        "  def train_dataloader(self):\n",
        "    return DataLoader(self.training_set, batch_size=self.batch_size, num_workers=self.num_workers, shuffle=True, collate_fn=self.collate_function)\n",
        "\n",
        "  def val_dataloader(self):\n",
        "    return DataLoader(self.validation_set, batch_size=self.batch_size, num_workers=self.num_workers, collate_fn=self.collate_function)\n",
        "\n",
        "  def test_dataloader(self):\n",
        "    return DataLoader(self.test_set, batch_size=self.batch_size, num_workers=self.num_workers, collate_fn=self.collate_function)"
      ],
      "metadata": {
        "id": "-VZu9Q8togpq"
      },
      "execution_count": null,
      "outputs": []
    },
    {
      "cell_type": "code",
      "source": [
        "# Pytorch and pytorch-geomtric module\n",
        "from torch.nn import Module, Linear\n",
        "from torch_geometric.nn import GATConv, global_mean_pool\n",
        "\n",
        "class CustomGAT(Module):\n",
        "  def __init__(self, input_size, label_size, layer_size=64, dropout=0.1, heads=2):\n",
        "    super().__init__()\n",
        "    self.input_size = input_size\n",
        "    self.layer_size = layer_size\n",
        "    self.dropout = dropout\n",
        "    self.heads = heads\n",
        "    self.label_size = label_size\n",
        "    self.setup()\n",
        "\n",
        "  def setup(self):\n",
        "    self.first_layer = GATConv(self.input_size, self.layer_size, dropout=self.dropout, heads=self.heads, concat=False)\n",
        "    self.last_layer = GATConv(self.layer_size, self.layer_size, dropout=self.dropout, heads=self.heads, concat=False)\n",
        "    self.ffnn = Linear(self.layer_size, self.label_size)\n",
        "  \n",
        "  def convert_graph_into_single_vector(self, graph_hidden, batch_index):\n",
        "    return global_mean_pool(graph_hidden, batch_index)\n",
        "\n",
        "  def forward(self, batch):\n",
        "    z = self.first_layer(batch.x, batch.edge_index)\n",
        "    z = self.last_layer(z, batch.edge_index)\n",
        "    z = self.convert_graph_into_single_vector(z, batch.batch)\n",
        "    z = self.ffnn(z)\n",
        "    return z"
      ],
      "metadata": {
        "id": "mkPEyKMajThJ"
      },
      "execution_count": null,
      "outputs": []
    },
    {
      "cell_type": "code",
      "source": [
        "# Pytorch-lightning module\n",
        "from pytorch_lightning import LightningModule\n",
        "from torch.nn import  BCEWithLogitsLoss\n",
        "from torch.optim import Adam\n",
        "\n",
        "class CustomModel(LightningModule):\n",
        "  def __init__(self, model, learning_rate=1e-3):\n",
        "    super().__init__()\n",
        "    self.model = model\n",
        "    self.lr = learning_rate\n",
        "\n",
        "  def forward(self, batch, mode):\n",
        "    z = self.model(batch)\n",
        "    loss = self.loss_function(z, batch.y)\n",
        "    self.log(f\"{mode}_loss\", loss, batch_size=batch.y.size(0), prog_bar=True, on_step=False, on_epoch=True)\n",
        "    return loss, z, batch.y\n",
        "  \n",
        "  def training_step(self, batch, batch_idx):\n",
        "    loss, predict, answer = self(batch, 'train')\n",
        "    return {'loss':loss, 'predict':predict, 'answer':answer}\n",
        "\n",
        "  def validation_step(self, batch, batch_idx):\n",
        "    loss, predict, answer = self(batch, 'val')\n",
        "    return {'loss':loss, 'predict':predict, 'answer':answer}\n",
        "  \n",
        "  def test_step(self, batch, batch_idx):\n",
        "    loss, predict, answer = self(batch, 'test')\n",
        "    return {'loss':loss, 'predict':predict, 'answer':answer}\n",
        "\n",
        "  def predict_step(self, batch, batch_idx):\n",
        "    predict = self.model(batch)\n",
        "    return predict\n",
        "\n",
        "  def loss_function(self, output, target):\n",
        "    return BCEWithLogitsLoss(reduction='mean')(output, target)\n",
        "\n",
        "  def configure_optimizers(self):\n",
        "    optimizer = Adam(self.parameters(), lr=self.lr)\n",
        "    return optimizer"
      ],
      "metadata": {
        "id": "SliByb1YjY6P"
      },
      "execution_count": null,
      "outputs": []
    },
    {
      "cell_type": "code",
      "source": [
        "# Training\n",
        "from pytorch_lightning import Trainer\n",
        "\n",
        "import warnings\n",
        "warnings.filterwarnings(action='ignore')\n",
        "# warnings.filterwarnings(action='default')\n",
        "\n",
        "data_module = CustomData(training_dataset, validation_dataset, test_dataset)\n",
        "\n",
        "gat = CustomGAT(53, 1)\n",
        "model = CustomModel(gat)\n",
        "\n",
        "#trainer = Trainer(max_epochs=1, accelerator='gpu', devices=[0])\n",
        "trainer = Trainer(max_epochs=1, accelerator='cpu')\n",
        "\n",
        "trainer.fit(model, datamodule=data_module)"
      ],
      "metadata": {
        "id": "d1pjTrz3jhbu"
      },
      "execution_count": null,
      "outputs": []
    },
    {
      "cell_type": "code",
      "source": [
        "# Evaluation\n",
        "import torch\n",
        "from torchmetrics.functional import auroc\n",
        "\n",
        "outputs = trainer.predict(model, dataloaders=data_module.test_dataloader())\n",
        "y = torch.concat(outputs)\n",
        "x = torch.concat([batch.y for batch in data_module.test_dataloader()]).int()\n",
        "\n",
        "evaluation = auroc(y, x)\n",
        "print(f\"auc-roc: {evaluation}\")"
      ],
      "metadata": {
        "id": "1pnLXEw9srPz"
      },
      "execution_count": null,
      "outputs": []
    }
  ]
}